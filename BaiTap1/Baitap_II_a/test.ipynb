{
 "cells": [
  {
   "cell_type": "code",
   "execution_count": 4,
   "id": "6684b812",
   "metadata": {},
   "outputs": [
    {
     "name": "stdout",
     "output_type": "stream",
     "text": [
      "Overwriting a.inp\n"
     ]
    }
   ],
   "source": [
    "%%writefile a.inp\n",
    "12"
   ]
  },
  {
   "cell_type": "code",
   "execution_count": 5,
   "id": "84eb69b2",
   "metadata": {},
   "outputs": [
    {
     "name": "stdout",
     "output_type": "stream",
     "text": [
      "Writing b.inp\n"
     ]
    }
   ],
   "source": [
    "%%writefile b.inp\n",
    "10"
   ]
  },
  {
   "cell_type": "code",
   "execution_count": 7,
   "id": "814d35ff",
   "metadata": {},
   "outputs": [
    {
     "name": "stdout",
     "output_type": "stream",
     "text": [
      "Expected: 24\n",
      "24\n",
      "Expected: -10\n",
      "-10\n"
     ]
    }
   ],
   "source": [
    "!g++ baia.cpp -o baia\n",
    "\n",
    "!./baia < a.inp >a.out\n",
    "!echo \"Expected: 24\"\n",
    "!cat a.out\n",
    "\n",
    "!./baia < b.inp >b.out\n",
    "!echo \"Expected: -10\"\n",
    "!cat b.out"
   ]
  }
 ],
 "metadata": {
  "kernelspec": {
   "display_name": "Python 3",
   "language": "python",
   "name": "python3"
  },
  "language_info": {
   "codemirror_mode": {
    "name": "ipython",
    "version": 3
   },
   "file_extension": ".py",
   "mimetype": "text/x-python",
   "name": "python",
   "nbconvert_exporter": "python",
   "pygments_lexer": "ipython3",
   "version": "3.12.1"
  }
 },
 "nbformat": 4,
 "nbformat_minor": 5
}

{
 "cells": [
  {
   "cell_type": "code",
   "execution_count": 1,
   "id": "7e5dd267",
   "metadata": {},
   "outputs": [
    {
     "name": "stdout",
     "output_type": "stream",
     "text": [
      "Writing a.inp\n"
     ]
    }
   ],
   "source": [
    "%%writefile a.inp\n",
    "8 3 2"
   ]
  },
  {
   "cell_type": "code",
   "execution_count": 2,
   "id": "b14884b2",
   "metadata": {},
   "outputs": [
    {
     "name": "stdout",
     "output_type": "stream",
     "text": [
      "Writing b.inp\n"
     ]
    }
   ],
   "source": [
    "%%writefile b.inp\n",
    "-2 2 -1"
   ]
  },
  {
   "cell_type": "code",
   "execution_count": 3,
   "id": "edfbcdde",
   "metadata": {},
   "outputs": [
    {
     "name": "stdout",
     "output_type": "stream",
     "text": [
      "Writing c.inp\n"
     ]
    }
   ],
   "source": [
    "%%writefile c.inp\n",
    "2 1 6"
   ]
  },
  {
   "cell_type": "code",
   "execution_count": 4,
   "id": "25a77147",
   "metadata": {},
   "outputs": [
    {
     "name": "stdout",
     "output_type": "stream",
     "text": [
      "Writing d.inp\n"
     ]
    }
   ],
   "source": [
    "%%writefile d.inp\n",
    "5 5 5"
   ]
  },
  {
   "cell_type": "code",
   "execution_count": 5,
   "id": "cebcdd13",
   "metadata": {},
   "outputs": [
    {
     "name": "stdout",
     "output_type": "stream",
     "text": [
      "Expected: 8\n",
      "8\n",
      "Expected: 2\n",
      "2\n",
      "Expected: 6\n",
      "6\n",
      "Expected: 5\n",
      "0\n"
     ]
    }
   ],
   "source": [
    "!g++ baie.cpp -o baie\n",
    "\n",
    "!./baie < a.inp >a.out\n",
    "!echo \"Expected: 8\"\n",
    "!cat a.out\n",
    "\n",
    "!./baie < b.inp >b.out\n",
    "!echo \"Expected: 2\"\n",
    "!cat b.out\n",
    "\n",
    "!./baie < c.inp >c.out\n",
    "!echo \"Expected: 6\"\n",
    "!cat c.out\n",
    "\n",
    "!./baie < d.inp >d.out\n",
    "!echo \"Expected: 5\"\n",
    "!cat d.out"
   ]
  }
 ],
 "metadata": {
  "kernelspec": {
   "display_name": "Python 3",
   "language": "python",
   "name": "python3"
  },
  "language_info": {
   "codemirror_mode": {
    "name": "ipython",
    "version": 3
   },
   "file_extension": ".py",
   "mimetype": "text/x-python",
   "name": "python",
   "nbconvert_exporter": "python",
   "pygments_lexer": "ipython3",
   "version": "3.12.1"
  }
 },
 "nbformat": 4,
 "nbformat_minor": 5
}

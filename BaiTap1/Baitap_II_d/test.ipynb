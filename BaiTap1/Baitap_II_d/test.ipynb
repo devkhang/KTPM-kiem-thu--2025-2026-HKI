{
 "cells": [
  {
   "cell_type": "code",
   "execution_count": 1,
   "id": "ef06c9c0",
   "metadata": {},
   "outputs": [
    {
     "name": "stdout",
     "output_type": "stream",
     "text": [
      "Writing a.inp\n"
     ]
    }
   ],
   "source": [
    "%%writefile a.inp\n",
    "1"
   ]
  },
  {
   "cell_type": "code",
   "execution_count": 2,
   "id": "39b2155b",
   "metadata": {},
   "outputs": [
    {
     "name": "stdout",
     "output_type": "stream",
     "text": [
      "Writing b.inp\n"
     ]
    }
   ],
   "source": [
    "%%writefile b.inp\n",
    "-1"
   ]
  },
  {
   "cell_type": "code",
   "execution_count": 3,
   "id": "90df34ca",
   "metadata": {},
   "outputs": [
    {
     "name": "stdout",
     "output_type": "stream",
     "text": [
      "Expected: 2\n",
      "2\n",
      "Expected: -2\n",
      "-2\n"
     ]
    }
   ],
   "source": [
    "!g++ baid.cpp -o baid\n",
    "\n",
    "!./baid < a.inp > a.out\n",
    "!echo \"Expected: 2\"\n",
    "!cat a.out\n",
    "\n",
    "!./baid < b.inp > b.out\n",
    "!echo \"Expected: -2\"\n",
    "!cat b.out"
   ]
  }
 ],
 "metadata": {
  "kernelspec": {
   "display_name": "Python 3",
   "language": "python",
   "name": "python3"
  },
  "language_info": {
   "codemirror_mode": {
    "name": "ipython",
    "version": 3
   },
   "file_extension": ".py",
   "mimetype": "text/x-python",
   "name": "python",
   "nbconvert_exporter": "python",
   "pygments_lexer": "ipython3",
   "version": "3.12.1"
  }
 },
 "nbformat": 4,
 "nbformat_minor": 5
}

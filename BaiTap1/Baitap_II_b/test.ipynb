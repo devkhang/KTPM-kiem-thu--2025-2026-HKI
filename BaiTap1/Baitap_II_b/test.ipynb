{
 "cells": [
  {
   "cell_type": "code",
   "execution_count": 1,
   "id": "0c62e0a1",
   "metadata": {},
   "outputs": [
    {
     "name": "stdout",
     "output_type": "stream",
     "text": [
      "Writing a.inp\n"
     ]
    }
   ],
   "source": [
    "%%writefile a.inp\n",
    "12"
   ]
  },
  {
   "cell_type": "code",
   "execution_count": 2,
   "id": "837c8763",
   "metadata": {},
   "outputs": [
    {
     "name": "stdout",
     "output_type": "stream",
     "text": [
      "Writing b.inp\n"
     ]
    }
   ],
   "source": [
    "%%writefile b.inp\n",
    "10"
   ]
  },
  {
   "cell_type": "code",
   "execution_count": 3,
   "id": "462c5859",
   "metadata": {},
   "outputs": [
    {
     "name": "stdout",
     "output_type": "stream",
     "text": [
      "Writing c.inp\n"
     ]
    }
   ],
   "source": [
    "%%writefile c.inp\n",
    "-1"
   ]
  },
  {
   "cell_type": "code",
   "execution_count": 4,
   "id": "71f0459d",
   "metadata": {},
   "outputs": [
    {
     "name": "stdout",
     "output_type": "stream",
     "text": [
      "Expected: 24\n",
      "24\n",
      "Expected: -10\n",
      "-10\n",
      "Expected: 1\n",
      "-2\n"
     ]
    }
   ],
   "source": [
    "!g++ baib.cpp -o baib\n",
    "\n",
    "!./baib < a.inp > a.out\n",
    "!echo \"Expected: 24\"\n",
    "!cat a.out\n",
    "\n",
    "!./baib < b.inp > b.out\n",
    "!echo \"Expected: -10\"\n",
    "!cat b.out\n",
    "\n",
    "!./baib < c.inp > c.out\n",
    "!echo \"Expected: 1\"\n",
    "!cat c.out"
   ]
  }
 ],
 "metadata": {
  "kernelspec": {
   "display_name": "Python 3",
   "language": "python",
   "name": "python3"
  },
  "language_info": {
   "codemirror_mode": {
    "name": "ipython",
    "version": 3
   },
   "file_extension": ".py",
   "mimetype": "text/x-python",
   "name": "python",
   "nbconvert_exporter": "python",
   "pygments_lexer": "ipython3",
   "version": "3.12.1"
  }
 },
 "nbformat": 4,
 "nbformat_minor": 5
}

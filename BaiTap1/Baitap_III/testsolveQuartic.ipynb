{
 "cells": [
  {
   "cell_type": "code",
   "execution_count": 1,
   "id": "02b8eb43",
   "metadata": {},
   "outputs": [
    {
     "name": "stdout",
     "output_type": "stream",
     "text": [
      "Writing t1.inp\n"
     ]
    }
   ],
   "source": [
    "%%writefile t1.inp\n",
    "0 0 0"
   ]
  },
  {
   "cell_type": "code",
   "execution_count": 2,
   "id": "46b3e2aa",
   "metadata": {},
   "outputs": [
    {
     "name": "stdout",
     "output_type": "stream",
     "text": [
      "Writing t2.inp\n"
     ]
    }
   ],
   "source": [
    "%%writefile t2.inp\n",
    "0 0 5"
   ]
  },
  {
   "cell_type": "code",
   "execution_count": 3,
   "id": "9a3c79fc",
   "metadata": {},
   "outputs": [
    {
     "name": "stdout",
     "output_type": "stream",
     "text": [
      "Writing t3.inp\n"
     ]
    }
   ],
   "source": [
    "%%writefile t3.inp\n",
    "0 -5 -2"
   ]
  },
  {
   "cell_type": "code",
   "execution_count": 4,
   "id": "8c877604",
   "metadata": {},
   "outputs": [
    {
     "name": "stdout",
     "output_type": "stream",
     "text": [
      "Writing t4.inp\n"
     ]
    }
   ],
   "source": [
    "%%writefile t4.inp\n",
    "0 7 0"
   ]
  },
  {
   "cell_type": "code",
   "execution_count": 5,
   "id": "c7861053",
   "metadata": {},
   "outputs": [
    {
     "name": "stdout",
     "output_type": "stream",
     "text": [
      "Writing t5.inp\n"
     ]
    }
   ],
   "source": [
    "%%writefile t5.inp\n",
    "7 8 1"
   ]
  },
  {
   "cell_type": "code",
   "execution_count": 6,
   "id": "600d08b9",
   "metadata": {},
   "outputs": [
    {
     "name": "stdout",
     "output_type": "stream",
     "text": [
      "Writing t6.inp\n"
     ]
    }
   ],
   "source": [
    "%%writefile t6.inp\n",
    "1 2 35"
   ]
  },
  {
   "cell_type": "code",
   "execution_count": 7,
   "id": "1c587a56",
   "metadata": {},
   "outputs": [
    {
     "name": "stdout",
     "output_type": "stream",
     "text": [
      "Writing t7.inp\n"
     ]
    }
   ],
   "source": [
    "%%writefile t7.inp\n",
    "16 32 16"
   ]
  },
  {
   "cell_type": "code",
   "execution_count": 8,
   "id": "9e36f51b",
   "metadata": {},
   "outputs": [
    {
     "name": "stdout",
     "output_type": "stream",
     "text": [
      "Writing t8.inp\n"
     ]
    }
   ],
   "source": [
    "%%writefile t8.inp\n",
    "16 -32 16"
   ]
  },
  {
   "cell_type": "code",
   "execution_count": 9,
   "id": "17183574",
   "metadata": {},
   "outputs": [
    {
     "name": "stdout",
     "output_type": "stream",
     "text": [
      "Writing t9.inp\n"
     ]
    }
   ],
   "source": [
    "%%writefile t9.inp\n",
    "7 2 4"
   ]
  },
  {
   "cell_type": "code",
   "execution_count": null,
   "id": "834e0291",
   "metadata": {},
   "outputs": [
    {
     "name": "stdout",
     "output_type": "stream",
     "text": [
      "Expected: Infinite solutions\n",
      " Infinite solutions.\n",
      "Expected: No solution\n",
      "No solution.\n",
      "Expected: No solutions\n",
      "No solution.\n",
      "Expected: The equation has 1 real solution(s): 0\n",
      " The equation has 2 real solution(s): -0 0 \n",
      "Expected: No solutions\n",
      "No solution.\n",
      "Expected: The equation has 2 real solution(s): 2.64575, -2.64575\n",
      " The equation has 2 real solution(s): 2.64575 -2.64575 \n",
      "Expected: No solutions\n",
      "No solution.\n",
      "Expected: The equation has 3 real solution(s): 1, -1\n",
      " The equation has 2 real solution(s): 1 -1 \n",
      "Expected: No solutions\n",
      "No solution.\n"
     ]
    }
   ],
   "source": [
    "!g++ solveQuartic.cpp -o solveQuartic\n",
    "\n",
    "!./solveQuartic < t1.inp > t1.out\n",
    "!echo \"Expected: Infinite solutions\"\n",
    "!cat t1.out\n",
    "\n",
    "!./solveQuartic < t2.inp > t2.out\n",
    "!echo \"Expected: No solution\"\n",
    "!cat t2.out\n",
    "\n",
    "!./solveQuartic < t3.inp > t3.out\n",
    "!echo \"Expected: No solutions\"\n",
    "!cat t3.out\n",
    "\n",
    "!./solveQuartic < t4.inp > t4.out\n",
    "!echo \"Expected: The equation has 1 real solution(s): 0\"\n",
    "!cat t4.out\n",
    "\n",
    "!./solveQuartic < t5.inp > t5.out\n",
    "!echo \"Expected: No solutions\"\n",
    "!cat t5.out\n",
    "\n",
    "!./solveQuartic < t6.inp > t6.out\n",
    "!echo \"Expected: The equation has 2 real solution(s): 2.64575, -2.64575\"\n",
    "!cat t6.out\n",
    "\n",
    "!./solveQuartic < t7.inp > t7.out\n",
    "!echo \"Expected: No solutions\"\n",
    "!cat t7.out\n",
    "\n",
    "!./solveQuartic < t8.inp > t8.out\n",
    "!echo \"Expected: The equation has 2 real solution(s): 1, -1\"\n",
    "!cat t8.out\n",
    "\n",
    "!./solveQuartic < t9.inp > t9.out\n",
    "!echo \"Expected: No solutions\"\n",
    "!cat t9.out"
   ]
  }
 ],
 "metadata": {
  "kernelspec": {
   "display_name": "Python 3",
   "language": "python",
   "name": "python3"
  },
  "language_info": {
   "codemirror_mode": {
    "name": "ipython",
    "version": 3
   },
   "file_extension": ".py",
   "mimetype": "text/x-python",
   "name": "python",
   "nbconvert_exporter": "python",
   "pygments_lexer": "ipython3",
   "version": "3.12.1"
  }
 },
 "nbformat": 4,
 "nbformat_minor": 5
}

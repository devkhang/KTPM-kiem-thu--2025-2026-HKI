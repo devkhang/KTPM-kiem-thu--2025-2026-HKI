{
 "cells": [
  {
   "cell_type": "code",
   "execution_count": 1,
   "id": "5f3560ff",
   "metadata": {},
   "outputs": [
    {
     "name": "stdout",
     "output_type": "stream",
     "text": [
      "Writing a.inp\n"
     ]
    }
   ],
   "source": [
    "%%writefile a.inp\n",
    "-5"
   ]
  },
  {
   "cell_type": "code",
   "execution_count": 2,
   "id": "dba09560",
   "metadata": {},
   "outputs": [
    {
     "name": "stdout",
     "output_type": "stream",
     "text": [
      "Writing b.inp\n"
     ]
    }
   ],
   "source": [
    "%%writefile b.inp\n",
    "11"
   ]
  },
  {
   "cell_type": "code",
   "execution_count": 3,
   "id": "791e6462",
   "metadata": {},
   "outputs": [
    {
     "name": "stdout",
     "output_type": "stream",
     "text": [
      "Expected: -10\n",
      "-10\n",
      "Expected: 22\n",
      "22\n"
     ]
    }
   ],
   "source": [
    "!g++ baic.cpp -o baic\n",
    "\n",
    "!./baic < a.inp > a.out\n",
    "!echo \"Expected: -10\"\n",
    "!cat a.out\n",
    "\n",
    "!./baic < b.inp > b.out\n",
    "!echo \"Expected: 22\"\n",
    "!cat b.out"
   ]
  }
 ],
 "metadata": {
  "kernelspec": {
   "display_name": "Python 3",
   "language": "python",
   "name": "python3"
  },
  "language_info": {
   "codemirror_mode": {
    "name": "ipython",
    "version": 3
   },
   "file_extension": ".py",
   "mimetype": "text/x-python",
   "name": "python",
   "nbconvert_exporter": "python",
   "pygments_lexer": "ipython3",
   "version": "3.12.1"
  }
 },
 "nbformat": 4,
 "nbformat_minor": 5
}
